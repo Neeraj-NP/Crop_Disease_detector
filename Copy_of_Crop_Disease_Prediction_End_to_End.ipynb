{
  "metadata": {
    "kernelspec": {
      "language": "python",
      "display_name": "Python 3",
      "name": "python3"
    },
    "language_info": {
      "pygments_lexer": "ipython3",
      "nbconvert_exporter": "python",
      "version": "3.6.4",
      "file_extension": ".py",
      "codemirror_mode": {
        "name": "ipython",
        "version": 3
      },
      "name": "python",
      "mimetype": "text/x-python"
    },
    "colab": {
      "provenance": [],
      "include_colab_link": true
    }
  },
  "nbformat_minor": 0,
  "nbformat": 4,
  "cells": [
    {
      "cell_type": "markdown",
      "metadata": {
        "id": "view-in-github",
        "colab_type": "text"
      },
      "source": [
        "<a href=\"https://colab.research.google.com/github/Neeraj-NP/Crop_Disease_detector/blob/main/Copy_of_Crop_Disease_Prediction_End_to_End.ipynb\" target=\"_parent\"><img src=\"https://colab.research.google.com/assets/colab-badge.svg\" alt=\"Open In Colab\"/></a>"
      ]
    },
    {
      "source": [
        "# IMPORTANT: RUN THIS CELL IN ORDER TO IMPORT YOUR KAGGLE DATA SOURCES,\n",
        "# THEN FEEL FREE TO DELETE THIS CELL.\n",
        "# NOTE: THIS NOTEBOOK ENVIRONMENT DIFFERS FROM KAGGLE'S PYTHON\n",
        "# ENVIRONMENT SO THERE MAY BE MISSING LIBRARIES USED BY YOUR\n",
        "# NOTEBOOK.\n",
        "import kagglehub\n",
        "vipoooool_new_plant_diseases_dataset_path = kagglehub.dataset_download('vipoooool/new-plant-diseases-dataset')\n",
        "\n",
        "print('Data source import complete.')\n"
      ],
      "metadata": {
        "id": "jGf4kxx3B7Ec",
        "outputId": "c495aed0-126a-476a-824c-751f082342ae",
        "colab": {
          "base_uri": "https://localhost:8080/"
        }
      },
      "cell_type": "code",
      "outputs": [
        {
          "output_type": "stream",
          "name": "stdout",
          "text": [
            "Data source import complete.\n"
          ]
        }
      ],
      "execution_count": 1
    },
    {
      "cell_type": "markdown",
      "source": [
        "## Setup"
      ],
      "metadata": {
        "id": "5dyeXzHwB7Ed"
      }
    },
    {
      "cell_type": "code",
      "source": [
        "import tensorflow as tf\n",
        "from tensorflow import keras\n",
        "\n",
        "import matplotlib.pyplot as plt\n",
        "import numpy as np\n",
        "\n",
        "import os"
      ],
      "metadata": {
        "execution": {
          "iopub.status.busy": "2023-03-31T08:30:59.996077Z",
          "iopub.execute_input": "2023-03-31T08:30:59.996544Z",
          "iopub.status.idle": "2023-03-31T08:31:12.517268Z",
          "shell.execute_reply.started": "2023-03-31T08:30:59.996501Z",
          "shell.execute_reply": "2023-03-31T08:31:12.514801Z"
        },
        "trusted": true,
        "id": "DrwWO8STB7Ed"
      },
      "execution_count": 2,
      "outputs": []
    },
    {
      "cell_type": "code",
      "source": [
        "image_size = 224\n",
        "target_size = (image_size, image_size)\n",
        "input_shape = (image_size, image_size, 3)\n",
        "\n",
        "batch_size = 32\n",
        "epochs = 25"
      ],
      "metadata": {
        "execution": {
          "iopub.status.busy": "2023-03-31T08:31:12.520577Z",
          "iopub.execute_input": "2023-03-31T08:31:12.521946Z",
          "iopub.status.idle": "2023-03-31T08:31:12.530545Z",
          "shell.execute_reply.started": "2023-03-31T08:31:12.521867Z",
          "shell.execute_reply": "2023-03-31T08:31:12.528974Z"
        },
        "trusted": true,
        "id": "brdvaTTyB7Ed"
      },
      "execution_count": 3,
      "outputs": []
    },
    {
      "cell_type": "markdown",
      "source": [
        "## Get data\n",
        "\n",
        "In order to make the most of our few training examples, we will \"augment\" them via a number of random transformations, so that our model would never see twice the exact same picture. This helps prevent overfitting and helps the model generalize better.\n",
        "\n",
        "In TensorFlow this can be done via the `tf.keras.preprocessing.image.ImageDataGenerator` class. This class allows you to:\n",
        "\n",
        "- configure random transformations and normalization operations to be done on your image data during training\n",
        "- instantiate generators of augmented image batches (and their labels) via `.flow(data, labels)` or `.flow_from_directory(directory)`. These generators can then be used with the `tf.keras` model methods that accept data generators as inputs, `fit`, `evaluate` and `predict`."
      ],
      "metadata": {
        "id": "qe-GnA52B7Ee"
      }
    },
    {
      "cell_type": "code",
      "source": [
        "base_dir = \"../kaggle/input/new-plant-diseases-dataset/new plant diseases dataset(augmented)/New Plant Diseases Dataset(Augmented)\"\n",
        "train_dir = os.path.join(base_dir,\"train\")\n",
        "test_dir = os.path.join(base_dir,\"valid\")"
      ],
      "metadata": {
        "execution": {
          "iopub.status.busy": "2023-03-31T08:31:12.532353Z",
          "iopub.execute_input": "2023-03-31T08:31:12.532836Z",
          "iopub.status.idle": "2023-03-31T08:31:12.550743Z",
          "shell.execute_reply.started": "2023-03-31T08:31:12.532791Z",
          "shell.execute_reply": "2023-03-31T08:31:12.549178Z"
        },
        "trusted": true,
        "id": "8i8IQ9a0B7Ee"
      },
      "execution_count": 4,
      "outputs": []
    },
    {
      "cell_type": "markdown",
      "source": [
        "# Identify Plant Diseases\n",
        "\n",
        "We use the PlantVillage dataset [1] by Hughes et al. consists of about 87,000 healthy and unhealthy leaf images divided into 38 categories by species and disease. Here we provide a subset of our experiments on working with this data. We also end up transfer learning from MobileNet and use the weights from pre-training on ImageNet.\n",
        "\n",
        "* ![PlantVillage Dataset Samples](https://i.imgur.com/Zcxdrlc.png)\n",
        "Figure 1. PlantVillage Dataset Samples\n",
        "\n",
        "## Classes\n",
        "\n",
        "The following 38 classes are availaible in the dataset\n",
        "\n",
        "- `Apple___Apple_scab`\n",
        "- `Apple___Black_rot`\n",
        "- `Apple___Cedar_apple_rust`\n",
        "- `Apple___healthy`\n",
        "- `Blueberry___healthy`\n",
        "- `Cherry_(including_sour)___Powdery_mildew`\n",
        "- `Cherry_(including_sour)___healthy`\n",
        "- `Corn_(maize)___Cercospora_leaf_spot Gray_leaf_spot`\n",
        "- `Corn_(maize)___Common_rust_`\n",
        "- `Corn_(maize)___Northern_Leaf_Blight`\n",
        "- `Corn_(maize)___healthy', 'Grape___Black_rot`\n",
        "- `Grape___Leaf_blight_(Isariopsis_Leaf_Spot)`\n",
        "- `Grape___healthy`\n",
        "- `Orange___Haunglongbing_(Citrus_greening)`\n",
        "- `Peach___Bacterial_spot`\n",
        "- `Peach___healthy`\n",
        "- `Pepper,_bell___Bacterial_spot`\n",
        "- `Pepper,_bell___healthy`\n",
        "- `Potato___Early_blight`\n",
        "- `Potato___Late_blight`\n",
        "- `Potato___healthy`\n",
        "- `Raspberry___healthy`\n",
        "- `Soybean___healthy`\n",
        "- `Squash___Powdery_mildew`\n",
        "- `Strawberry___Leaf_scorch`\n",
        "- `Strawberry___healthy`\n",
        "- `Tomato___Bacterial_spot`\n",
        "- `Tomato___Late_blight`\n",
        "- `Tomato___Leaf_Mold`\n",
        "- `Tomato___Septoria_leaf_spot`\n",
        "- `Tomato___Spider_mites Two-spotted_spider_mite`\n",
        "- `Tomato___Target_Spot`\n",
        "- `Tomato___Tomato_Yellow_Leaf_Curl_Virus`\n",
        "- `Tomato___Tomato_mosaic_virus`\n",
        "- `Tomato___healthy`\n",
        "\n",
        "## References\n",
        "\n",
        "[1] Hughes, David P., and Marcel Salathe. “An Open Access Repository of Images on Plant Health to Enable the Development of Mobile Disease Diagnostics.” ArXiv:1511.08060 [Cs], Apr. 2016. arXiv.org, http://arxiv.org/abs/1511.08060.\n",
        "\n",
        "[2] Howard, Andrew G., et al. “MobileNets: Efficient Convolutional Neural Networks for Mobile Vision Applications.” ArXiv:1704.04861 [Cs], Apr. 2017. arXiv.org, http://arxiv.org/abs/1704.04861.\n"
      ],
      "metadata": {
        "id": "TUnHmBzmB7Ee"
      }
    },
    {
      "cell_type": "markdown",
      "source": [
        "We make the following augmentations to the images:\n",
        "\n",
        "- `width_shift` and `height_shift` are ranges (as a fraction of total width or height) within which to randomly translate pictures vertically or horizontally\n",
        "- `rescale` is a value by which we will multiply the data before any other processing. Our original images consist in RGB coefficients in the 0-255, but such values would be too high for our models to process (given a typical learning rate), so we target values between 0 and 1 instead by scaling with a 1/255. factor.\n",
        "- `shear_range` is for randomly applying shearing transformations\n",
        "- `zoom_range` is for randomly zooming inside pictures\n",
        "- `fill_mode` is the strategy used for filling in newly created pixels, which can appear after a rotation or a width/height shift."
      ],
      "metadata": {
        "id": "UcL0TgZlB7Ef"
      }
    },
    {
      "cell_type": "code",
      "source": [
        "train_datagen = keras.preprocessing.image.ImageDataGenerator(rescale = 1/255.0,\n",
        "                                                             shear_range = 0.2,\n",
        "                                                             zoom_range = 0.2,\n",
        "                                                             width_shift_range = 0.2,\n",
        "                                                             height_shift_range = 0.2,\n",
        "                                                             fill_mode=\"nearest\")\n",
        "\n",
        "test_datagen = keras.preprocessing.image.ImageDataGenerator(rescale = 1/255.0)"
      ],
      "metadata": {
        "execution": {
          "iopub.status.busy": "2023-03-31T08:31:12.554274Z",
          "iopub.execute_input": "2023-03-31T08:31:12.554939Z",
          "iopub.status.idle": "2023-03-31T08:31:12.565783Z",
          "shell.execute_reply.started": "2023-03-31T08:31:12.554884Z",
          "shell.execute_reply": "2023-03-31T08:31:12.563948Z"
        },
        "trusted": true,
        "id": "nthuXeJAB7Ef"
      },
      "execution_count": 5,
      "outputs": []
    },
    {
      "cell_type": "markdown",
      "source": [
        "Let's prepare our data. We will use `.flow_from_directory()` to generate batches of image data (and their labels) directly from our images in their respective folders."
      ],
      "metadata": {
        "id": "udyQ_AHCB7Ef"
      }
    },
    {
      "cell_type": "code",
      "source": [
        "train_data = train_datagen.flow_from_directory(train_dir,\n",
        "                                               target_size = (image_size, image_size),\n",
        "                                               batch_size = batch_size,\n",
        "                                               class_mode = \"categorical\")\n",
        "\n",
        "test_data = test_datagen.flow_from_directory(test_dir,\n",
        "                                             target_size = (image_size, image_size),\n",
        "                                             batch_size = batch_size,\n",
        "                                             class_mode = \"categorical\")"
      ],
      "metadata": {
        "execution": {
          "iopub.status.busy": "2023-03-31T08:31:12.567555Z",
          "iopub.execute_input": "2023-03-31T08:31:12.56797Z",
          "iopub.status.idle": "2023-03-31T08:32:15.464831Z",
          "shell.execute_reply.started": "2023-03-31T08:31:12.56793Z",
          "shell.execute_reply": "2023-03-31T08:32:15.463371Z"
        },
        "trusted": true,
        "id": "60mPYvtFB7Ef",
        "outputId": "ab5c949b-bdd6-4ce9-8511-e4ad86a04456",
        "colab": {
          "base_uri": "https://localhost:8080/"
        }
      },
      "execution_count": 6,
      "outputs": [
        {
          "output_type": "stream",
          "name": "stdout",
          "text": [
            "Found 70295 images belonging to 38 classes.\n",
            "Found 17572 images belonging to 38 classes.\n"
          ]
        }
      ]
    },
    {
      "cell_type": "markdown",
      "source": [
        "## Create a classes index file\n",
        "\n",
        "We also want to know which class corresponds to which species and disease so we also create a `json` file which shows corresponding labels and class indices."
      ],
      "metadata": {
        "id": "inYsZT0wB7Ef"
      }
    },
    {
      "cell_type": "code",
      "source": [
        "categories = list(train_data.class_indices.keys())\n",
        "print(train_data.class_indices)"
      ],
      "metadata": {
        "execution": {
          "iopub.status.busy": "2023-03-31T08:32:15.466492Z",
          "iopub.execute_input": "2023-03-31T08:32:15.466899Z",
          "iopub.status.idle": "2023-03-31T08:32:15.473976Z",
          "shell.execute_reply.started": "2023-03-31T08:32:15.466857Z",
          "shell.execute_reply": "2023-03-31T08:32:15.472221Z"
        },
        "trusted": true,
        "id": "ysN_lViOB7Ef",
        "outputId": "add22926-0f93-4b05-c57d-a7ac218213b6",
        "colab": {
          "base_uri": "https://localhost:8080/"
        }
      },
      "execution_count": 7,
      "outputs": [
        {
          "output_type": "stream",
          "name": "stdout",
          "text": [
            "{'Apple___Apple_scab': 0, 'Apple___Black_rot': 1, 'Apple___Cedar_apple_rust': 2, 'Apple___healthy': 3, 'Blueberry___healthy': 4, 'Cherry_(including_sour)___Powdery_mildew': 5, 'Cherry_(including_sour)___healthy': 6, 'Corn_(maize)___Cercospora_leaf_spot Gray_leaf_spot': 7, 'Corn_(maize)___Common_rust_': 8, 'Corn_(maize)___Northern_Leaf_Blight': 9, 'Corn_(maize)___healthy': 10, 'Grape___Black_rot': 11, 'Grape___Esca_(Black_Measles)': 12, 'Grape___Leaf_blight_(Isariopsis_Leaf_Spot)': 13, 'Grape___healthy': 14, 'Orange___Haunglongbing_(Citrus_greening)': 15, 'Peach___Bacterial_spot': 16, 'Peach___healthy': 17, 'Pepper,_bell___Bacterial_spot': 18, 'Pepper,_bell___healthy': 19, 'Potato___Early_blight': 20, 'Potato___Late_blight': 21, 'Potato___healthy': 22, 'Raspberry___healthy': 23, 'Soybean___healthy': 24, 'Squash___Powdery_mildew': 25, 'Strawberry___Leaf_scorch': 26, 'Strawberry___healthy': 27, 'Tomato___Bacterial_spot': 28, 'Tomato___Early_blight': 29, 'Tomato___Late_blight': 30, 'Tomato___Leaf_Mold': 31, 'Tomato___Septoria_leaf_spot': 32, 'Tomato___Spider_mites Two-spotted_spider_mite': 33, 'Tomato___Target_Spot': 34, 'Tomato___Tomato_Yellow_Leaf_Curl_Virus': 35, 'Tomato___Tomato_mosaic_virus': 36, 'Tomato___healthy': 37}\n"
          ]
        }
      ]
    },
    {
      "cell_type": "code",
      "source": [
        "import json\n",
        "with open('class_indices.json','w') as f:\n",
        "  json.dump(train_data.class_indices, f)\n",
        "\n",
        "from IPython.display import FileLink\n",
        "FileLink(r'class_indices.json')"
      ],
      "metadata": {
        "execution": {
          "iopub.status.busy": "2023-03-31T08:32:15.475619Z",
          "iopub.execute_input": "2023-03-31T08:32:15.476033Z",
          "iopub.status.idle": "2023-03-31T08:32:15.491173Z",
          "shell.execute_reply.started": "2023-03-31T08:32:15.475993Z",
          "shell.execute_reply": "2023-03-31T08:32:15.489956Z"
        },
        "trusted": true,
        "id": "3OGIYl6cB7Ef",
        "outputId": "a17ee3d7-f167-401e-ee0f-97b34ed0b29e",
        "colab": {
          "base_uri": "https://localhost:8080/",
          "height": 34
        }
      },
      "execution_count": 8,
      "outputs": [
        {
          "output_type": "execute_result",
          "data": {
            "text/plain": [
              "/content/class_indices.json"
            ],
            "text/html": [
              "<a href='class_indices.json' target='_blank'>class_indices.json</a><br>"
            ]
          },
          "metadata": {},
          "execution_count": 8
        }
      ]
    },
    {
      "cell_type": "markdown",
      "source": [
        "## Training\n",
        "\n",
        "We first get the base MobileNet model without including the top layers since we want to use it for 38 classes and us the pre-trained weights for ImageNet."
      ],
      "metadata": {
        "id": "nNA6N6_WB7Eg"
      }
    },
    {
      "cell_type": "code",
      "source": [
        "base_model = tf.keras.applications.MobileNet(weights = \"imagenet\",\n",
        "                                             include_top = False,\n",
        "                                             input_shape = input_shape)\n",
        "\n",
        "base_model.trainable = False"
      ],
      "metadata": {
        "execution": {
          "iopub.status.busy": "2023-03-31T08:32:15.492822Z",
          "iopub.execute_input": "2023-03-31T08:32:15.494089Z",
          "iopub.status.idle": "2023-03-31T08:32:18.080349Z",
          "shell.execute_reply.started": "2023-03-31T08:32:15.494049Z",
          "shell.execute_reply": "2023-03-31T08:32:18.078583Z"
        },
        "trusted": true,
        "id": "pyOWEc5OB7Eg",
        "outputId": "2b71d0c8-30c7-48e7-92fe-56976e6ad70a",
        "colab": {
          "base_uri": "https://localhost:8080/"
        }
      },
      "execution_count": 9,
      "outputs": [
        {
          "output_type": "stream",
          "name": "stdout",
          "text": [
            "Downloading data from https://storage.googleapis.com/tensorflow/keras-applications/mobilenet/mobilenet_1_0_224_tf_no_top.h5\n",
            "\u001b[1m17225924/17225924\u001b[0m \u001b[32m━━━━━━━━━━━━━━━━━━━━\u001b[0m\u001b[37m\u001b[0m \u001b[1m0s\u001b[0m 0us/step\n"
          ]
        }
      ]
    },
    {
      "cell_type": "markdown",
      "source": [
        "We now create a small upstream model on top of the MobileNet using the functional API"
      ],
      "metadata": {
        "id": "3tb3BuviB7Eg"
      }
    },
    {
      "cell_type": "code",
      "source": [
        "inputs = keras.Input(shape = input_shape)\n",
        "\n",
        "x = base_model(inputs, training = False)\n",
        "x = tf.keras.layers.GlobalAveragePooling2D()(x)\n",
        "x = tf.keras.layers.Dropout(0.2)(x)\n",
        "x = tf.keras.layers.Dense(len(categories),\n",
        "                          activation=\"softmax\")(x)\n",
        "\n",
        "model = keras.Model(inputs = inputs,\n",
        "                    outputs = x,\n",
        "                    name=\"LeafDisease_MobileNet\")"
      ],
      "metadata": {
        "execution": {
          "iopub.status.busy": "2023-03-31T08:32:18.082844Z",
          "iopub.execute_input": "2023-03-31T08:32:18.083467Z",
          "iopub.status.idle": "2023-03-31T08:32:18.430681Z",
          "shell.execute_reply.started": "2023-03-31T08:32:18.0834Z",
          "shell.execute_reply": "2023-03-31T08:32:18.429519Z"
        },
        "trusted": true,
        "id": "JnkaoWM7B7Eg"
      },
      "execution_count": 10,
      "outputs": []
    },
    {
      "cell_type": "markdown",
      "source": [
        "In our multiple experiments we found out Adam optimizer to work really well with it's default learning rate, $\\beta_1$, $\\beta_2$ and $\\epsilon$ values"
      ],
      "metadata": {
        "id": "AoRCzcVYB7Eg"
      }
    },
    {
      "cell_type": "code",
      "source": [
        "optimizer = tf.keras.optimizers.Adam()\n",
        "\n",
        "model.compile(optimizer = optimizer,\n",
        "              loss = tf.keras.losses.CategoricalCrossentropy(from_logits = True),\n",
        "              metrics=[keras.metrics.CategoricalAccuracy(),\n",
        "                       'accuracy'])"
      ],
      "metadata": {
        "execution": {
          "iopub.status.busy": "2023-03-31T08:32:18.436873Z",
          "iopub.execute_input": "2023-03-31T08:32:18.438339Z",
          "iopub.status.idle": "2023-03-31T08:32:18.471412Z",
          "shell.execute_reply.started": "2023-03-31T08:32:18.438249Z",
          "shell.execute_reply": "2023-03-31T08:32:18.469986Z"
        },
        "trusted": true,
        "id": "t19U16W4B7Eg"
      },
      "execution_count": 11,
      "outputs": []
    },
    {
      "cell_type": "code",
      "source": [
        "history = model.fit(train_data,\n",
        "                    validation_data=test_data,\n",
        "                    epochs=epochs,\n",
        "                    steps_per_epoch=150,\n",
        "                    validation_steps=100)"
      ],
      "metadata": {
        "execution": {
          "iopub.status.busy": "2023-03-31T08:32:18.472996Z",
          "iopub.execute_input": "2023-03-31T08:32:18.473416Z"
        },
        "trusted": true,
        "id": "30pSk8MKB7Eg",
        "outputId": "c45032a8-00d7-4d03-fa8c-28a97214a871",
        "colab": {
          "base_uri": "https://localhost:8080/"
        }
      },
      "execution_count": null,
      "outputs": [
        {
          "output_type": "stream",
          "name": "stdout",
          "text": [
            "Epoch 1/25\n",
            "\u001b[1m150/150\u001b[0m \u001b[32m━━━━━━━━━━━━━━━━━━━━\u001b[0m\u001b[37m\u001b[0m \u001b[1m415s\u001b[0m 3s/step - accuracy: 0.7046 - categorical_accuracy: 0.7046 - loss: 1.1026 - val_accuracy: 0.8603 - val_categorical_accuracy: 0.8603 - val_loss: 0.5518\n",
            "Epoch 2/25\n",
            "\u001b[1m 46/150\u001b[0m \u001b[32m━━━━━━\u001b[0m\u001b[37m━━━━━━━━━━━━━━\u001b[0m \u001b[1m3:02\u001b[0m 2s/step - accuracy: 0.8053 - categorical_accuracy: 0.8053 - loss: 0.6683"
          ]
        }
      ]
    },
    {
      "cell_type": "markdown",
      "source": [
        "## Review the training process"
      ],
      "metadata": {
        "id": "B-uVvgQoB7Eg"
      }
    },
    {
      "cell_type": "code",
      "source": [
        "loss = history.history['loss']\n",
        "val_loss = history.history['val_loss']\n",
        "\n",
        "epochs = range(len(loss))\n",
        "\n",
        "fig = plt.figure(figsize=(10,6))\n",
        "plt.plot(epochs,loss,c=\"red\",label=\"Training\")\n",
        "plt.plot(epochs,val_loss,c=\"blue\",label=\"Validation\")\n",
        "plt.xlabel(\"Epochs\")\n",
        "plt.ylabel(\"Loss\")\n",
        "plt.legend()"
      ],
      "metadata": {
        "id": "Ekq6DckpB7Eg"
      },
      "execution_count": null,
      "outputs": []
    },
    {
      "cell_type": "code",
      "source": [
        "acc = history.history['categorical_accuracy']\n",
        "val_acc = history.history['val_categorical_accuracy']\n",
        "\n",
        "epochs = range(len(acc))\n",
        "\n",
        "fig = plt.figure(figsize=(10,6))\n",
        "plt.plot(epochs,acc,c=\"red\",label=\"Training\")\n",
        "plt.plot(epochs,val_acc,c=\"blue\",label=\"Validation\")\n",
        "plt.xlabel(\"Epochs\")\n",
        "plt.ylabel(\"Accuracy\")\n",
        "plt.legend()"
      ],
      "metadata": {
        "id": "jxUQ7KkUB7Eh"
      },
      "execution_count": null,
      "outputs": []
    },
    {
      "cell_type": "markdown",
      "source": [
        "## Save the model\n",
        "We finally save the model in the standard TensorFlow 2 SavedModel format."
      ],
      "metadata": {
        "id": "IbrlZ5KAB7Eh"
      }
    },
    {
      "cell_type": "code",
      "source": [
        "model.save('plant_disease')"
      ],
      "metadata": {
        "id": "YM56AaXsB7Eh"
      },
      "execution_count": null,
      "outputs": []
    },
    {
      "cell_type": "markdown",
      "source": [
        "## Converting to tflite Model"
      ],
      "metadata": {
        "id": "PktxiOOMB7Eh"
      }
    },
    {
      "cell_type": "code",
      "source": [
        "import tensorflow as tf\n",
        "\n",
        "# Convert the model\n",
        "converter = tf.lite.TFLiteConverter.from_keras_model(model)\n",
        "tflite_model = converter.convert()\n",
        "\n",
        "# Save the TFLite model\n",
        "with open('model.tflite', 'wb') as f:\n",
        "    f.write(tflite_model)"
      ],
      "metadata": {
        "id": "NcD3Tn13B7Eh"
      },
      "execution_count": null,
      "outputs": []
    }
  ]
}